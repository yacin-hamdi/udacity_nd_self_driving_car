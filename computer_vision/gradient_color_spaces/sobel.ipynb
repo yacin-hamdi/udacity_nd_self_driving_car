{
 "cells": [
  {
   "cell_type": "code",
   "execution_count": null,
   "id": "c51aa1d3-75c0-43d4-8574-c5d02723a369",
   "metadata": {},
   "outputs": [],
   "source": []
  }
 ],
 "metadata": {
  "kernelspec": {
   "display_name": "Python 3 (ipykernel)",
   "language": "python",
   "name": "python3"
  },
  "language_info": {
   "codemirror_mode": {
    "name": "ipython",
    "version": 3
   },
   "file_extension": ".py",
   "mimetype": "text/x-python",
   "name": "python",
   "nbconvert_exporter": "python",
   "pygments_lexer": "ipython3",
   "version": "3.7.3"
  }
 },
 "nbformat": 4,
 "nbformat_minor": 5
}
