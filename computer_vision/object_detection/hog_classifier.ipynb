{
 "cells": [
  {
   "cell_type": "code",
   "execution_count": 13,
   "id": "7bd54149-0625-4b7b-ba6d-4437c07181e6",
   "metadata": {},
   "outputs": [],
   "source": [
    "import matplotlib.pyplot as plt\n",
    "import matplotlib.image as mpimg\n",
    "import cv2\n",
    "import glob\n",
    "import time\n",
    "from skimage.feature import hog\n",
    "import numpy as np\n",
    "from sklearn.svm import LinearSVC\n",
    "from sklearn.model_selection import train_test_split\n",
    "from sklearn.preprocessing import StandardScaler"
   ]
  },
  {
   "cell_type": "code",
   "execution_count": 35,
   "id": "e3fc54c6-8f58-440e-9daf-fd8004a2cdf4",
   "metadata": {},
   "outputs": [],
   "source": [
    "def get_hog_features(img, orient, pix_per_cells, cell_per_block, vis=False, feature_vec=True):\n",
    "    if vis:\n",
    "        feature, hog_image = hog(img, orientations=orient, \n",
    "                                 pixels_per_cell=(pix_per_cells, pix_per_cells),\n",
    "                                 cells_per_block=(cell_per_block, cell_per_block), \n",
    "                                 visualize=vis, \n",
    "                                 feature_vector=feature_vec, \n",
    "                                 transform_sqrt=True,\n",
    "                                 block_norm=\"L2-Hys\")\n",
    "        \n",
    "        return feature, hog_image\n",
    "    else:\n",
    "        feature = hog(img, orientations=orient, \n",
    "                      pixels_per_cell=(pix_per_cells, pix_per_cells), \n",
    "                      cells_per_block=(cell_per_block, cell_per_block), \n",
    "                      visualize=vis, \n",
    "                      feature_vector=feature_vec, \n",
    "                      transform_sqrt=True, \n",
    "                      block_norm=\"L2-Hys\")\n",
    "        return feature\n",
    "                                 "
   ]
  },
  {
   "cell_type": "code",
   "execution_count": 139,
   "id": "52783670-1141-446b-8bde-67a826c21594",
   "metadata": {},
   "outputs": [],
   "source": [
    "def extract_features(imgs, cspace=\"RGB\", orient=9, pix_per_cells=8, cell_per_block=2, hog_channel=0):\n",
    "    features = []\n",
    "    for file_path in imgs:\n",
    "        image = mpimg.imread(file_path)\n",
    "        if cspace != 'RGB':\n",
    "            if cspace == 'HSV':\n",
    "                feature_image = cv2.cvtColor(image, cv2.COLOR_RGB2HSV)\n",
    "            elif cspace == 'LUV':\n",
    "                feature_image = cv2.cvtColor(image, cv2.COLOR_RGB2LUV)\n",
    "            elif cspace == 'HLS':\n",
    "                feature_image = cv2.cvtColor(image, cv2.COLOR_RGB2HLS)\n",
    "            elif cspace == 'YUV':\n",
    "                feature_image = cv2.cvtColor(image, cv2.COLOR_RGB2YUV)\n",
    "            elif cspace == 'YCrCb':\n",
    "                feature_image = cv2.cvtColor(image, cv2.COLOR_RGB2YCrCb)\n",
    "        else: feature_image = np.copy(image)      \n",
    "        \n",
    "        if hog_channel == \"ALL\":\n",
    "            hog_features = []\n",
    "            for channel in range(feature_image.shape[2]):\n",
    "                hog_features.append(get_hog_features(feature_image[:,:,channel], orient, \n",
    "                                                     pix_per_cells, \n",
    "                                                     cell_per_block, \n",
    "                                                     vis=False, \n",
    "                                                     feature_vec=True))\n",
    "            hog_features = np.ravel(hog_features) \n",
    "        else:\n",
    "            hog_features = get_hog_features(feature_image[:, :, hog_channel], orient, \n",
    "                                            pix_per_cells, \n",
    "                                            cell_per_block,\n",
    "                                            vis=False, \n",
    "                                            feature_vec=True)\n",
    "        \n",
    "        \n",
    "        features.append(hog_features)\n",
    "    return features\n",
    "            \n",
    "                                "
   ]
  },
  {
   "cell_type": "code",
   "execution_count": 140,
   "id": "2bcf1dc4-838c-41d3-9fa2-146ffb2b53fa",
   "metadata": {},
   "outputs": [],
   "source": [
    "images = glob.glob(\"cars/*/*/*.jpeg\")\n",
    "cars=[]\n",
    "not_cars = []\n",
    "\n",
    "for image in images:\n",
    "    if \"image\" in image or \"extra\" in image:\n",
    "        not_cars.append(image)\n",
    "    else:\n",
    "        cars.append(image)\n",
    "n_sample = 500\n",
    "cars = cars[:n_sample]\n",
    "not_cars = not_cars[:n_sample]"
   ]
  },
  {
   "cell_type": "code",
   "execution_count": 200,
   "id": "d9afc4c0-4219-4cd2-8f31-db8656b1ee29",
   "metadata": {},
   "outputs": [],
   "source": [
    "cspace = 'HSV'\n",
    "pix_per_cell = 8\n",
    "cell_per_block = 1\n",
    "orient = 9\n",
    "hog_channel = \"ALL\""
   ]
  },
  {
   "cell_type": "code",
   "execution_count": 201,
   "id": "a886bbe3-4972-4c3a-8347-ed88a56c33cb",
   "metadata": {},
   "outputs": [
    {
     "name": "stdout",
     "output_type": "stream",
     "text": [
      "8.48  seconds to extract hog features...\n"
     ]
    }
   ],
   "source": [
    "t1 = time.time()\n",
    "car_features = extract_features(cars, cspace=cspace, orient=orient,\n",
    "                                pix_per_cells=pix_per_cell, \n",
    "                                cell_per_block=cell_per_block, hog_channel=hog_channel)\n",
    "\n",
    "notcar_features = extract_features(not_cars, cspace=cspace, orient=orient, \n",
    "                                   pix_per_cells=pix_per_cells, \n",
    "                                   cell_per_block=cell_per_block, hog_channel=hog_channel)\n",
    "t2 = time.time()\n",
    "\n",
    "print(round(t2-t1, 2), \" seconds to extract hog features...\")"
   ]
  },
  {
   "cell_type": "code",
   "execution_count": 202,
   "id": "8bdaa119-7628-4c35-9791-20e7a1895947",
   "metadata": {},
   "outputs": [
    {
     "name": "stdout",
     "output_type": "stream",
     "text": [
      "Using: 9 orientations 8 pixels per cell and 1 cells per block\n",
      "Feature vector length: 1728\n"
     ]
    }
   ],
   "source": [
    "# Create an array stack of feature vectors\n",
    "X = np.vstack((car_features, notcar_features)).astype(np.float64)\n",
    "\n",
    "# Define the labels vector\n",
    "y = np.hstack((np.ones(len(car_features)), np.zeros(len(notcar_features))))\n",
    "\n",
    "# Split up data into randomized training and test sets\n",
    "rand_state = np.random.randint(0, 100)\n",
    "X_train, X_test, y_train, y_test = train_test_split(\n",
    "    X, y, test_size=0.2, random_state=rand_state)\n",
    "\n",
    "X_scaler = StandardScaler().fit(X_train)\n",
    "X_train = X_scaler.transform(X_train)\n",
    "X_test = X_scaler.transform(X_test)\n",
    "print('Using:',orient,'orientations',pix_per_cell,\n",
    "    'pixels per cell and', cell_per_block,'cells per block')\n",
    "print('Feature vector length:', len(X_train[0]))"
   ]
  },
  {
   "cell_type": "code",
   "execution_count": 203,
   "id": "6b6cccd5-9f98-438a-8c13-91d1711b3514",
   "metadata": {},
   "outputs": [
    {
     "name": "stdout",
     "output_type": "stream",
     "text": [
      "0.09 Seconds to train SVC...\n"
     ]
    }
   ],
   "source": [
    "svc = LinearSVC()\n",
    "t1 = time.time()\n",
    "svc.fit(X_train, y_train)\n",
    "t2 = time.time()\n",
    "print(round(t2-t1, 2), 'Seconds to train SVC...')"
   ]
  },
  {
   "cell_type": "code",
   "execution_count": 204,
   "id": "489d0805-a559-4b1f-9304-40eb8e375e05",
   "metadata": {},
   "outputs": [
    {
     "name": "stdout",
     "output_type": "stream",
     "text": [
      "Test Accuracy of SVC =  0.995\n",
      "My SVC predicts:  [1. 1. 0. 1. 1. 1. 0. 1. 0. 0.]\n",
      "For these 10 labels:  [1. 1. 0. 1. 1. 1. 0. 1. 0. 0.]\n",
      "0.01563 Seconds to predict 10 labels with SVC\n"
     ]
    }
   ],
   "source": [
    "print('Test Accuracy of SVC = ', round(svc.score(X_test, y_test), 4))\n",
    "# Check the prediction time for a single sample\n",
    "t1=time.time()\n",
    "n_predict = 10\n",
    "print('My SVC predicts: ', svc.predict(X_test[0:n_predict]))\n",
    "print('For these',n_predict, 'labels: ', y_test[0:n_predict])\n",
    "t2 = time.time()\n",
    "print(round(t2-t1, 5), 'Seconds to predict', n_predict,'labels with SVC')"
   ]
  },
  {
   "cell_type": "code",
   "execution_count": null,
   "id": "e826b05f-931f-46c1-a14c-90bc526f9c87",
   "metadata": {},
   "outputs": [],
   "source": []
  }
 ],
 "metadata": {
  "kernelspec": {
   "display_name": "Python 3 (ipykernel)",
   "language": "python",
   "name": "python3"
  },
  "language_info": {
   "codemirror_mode": {
    "name": "ipython",
    "version": 3
   },
   "file_extension": ".py",
   "mimetype": "text/x-python",
   "name": "python",
   "nbconvert_exporter": "python",
   "pygments_lexer": "ipython3",
   "version": "3.10.9"
  }
 },
 "nbformat": 4,
 "nbformat_minor": 5
}
