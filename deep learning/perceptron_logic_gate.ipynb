{
 "cells": [
  {
   "cell_type": "code",
   "execution_count": 24,
   "id": "73131534-b806-42df-a8f2-6393b16a0104",
   "metadata": {},
   "outputs": [
    {
     "name": "stdout",
     "output_type": "stream",
     "text": [
      "Nice!  You got it all correct.\n",
      "\n",
      " Input 1    Input 2    Linear Combination    Activation Output   Is Correct\n",
      "       0          0                    -2                False          yes\n",
      "       0          1                    -1                False          yes\n",
      "       1          0                    -1                False          yes\n",
      "       1          1                     0                 True          yes\n"
     ]
    }
   ],
   "source": [
    "import pandas as pd\n",
    "\n",
    "weight1 = 1\n",
    "weight2 = 1\n",
    "bias = -2\n",
    "\n",
    "test_inputs = [(0,0), (0,1), (1,0), (1,1)]\n",
    "correct_outputs = [False, False, False, True]\n",
    "outputs = []\n",
    "for ip,op in zip(test_inputs, correct_outputs):\n",
    "    linear_combination = ip[0] * weight1 + ip[1] * weight2 + bias\n",
    "    output = (linear_combination >=0)\n",
    "    output_string = \"yes\" if output == op else \"no\"\n",
    "    outputs.append([ip[0], ip[1], linear_combination, output, output_string])\n",
    "\n",
    "num_wrong = len([output[4] for output in outputs if output[4] == 'No'])\n",
    "output_frame = pd.DataFrame(outputs, columns=['Input 1', '  Input 2', '  Linear Combination', '  Activation Output', '  Is Correct'])\n",
    "if not num_wrong:\n",
    "    print('Nice!  You got it all correct.\\n')\n",
    "else:\n",
    "    print('You got {} wrong.  Keep trying!\\n'.format(num_wrong))\n",
    "print(output_frame.to_string(index=False))\n"
   ]
  },
  {
   "cell_type": "code",
   "execution_count": 32,
   "id": "a557c33c-7445-4a68-a653-846f6c501571",
   "metadata": {},
   "outputs": [
    {
     "name": "stdout",
     "output_type": "stream",
     "text": [
      "Nice!  You got it all correct.\n",
      "\n",
      " Input 1    Input 2    Linear Combination    Activation Output   Is Correct\n",
      "       0          0                     1                 True          yes\n",
      "       0          1                    -1                False          yes\n",
      "       1          0                     0                 True          yes\n",
      "       1          1                    -2                False          yes\n"
     ]
    }
   ],
   "source": [
    "import pandas as pd\n",
    "\n",
    "weight1 = -1\n",
    "weight2 = -2\n",
    "bias = 1\n",
    "\n",
    "test_inputs = [(0,0), (0,1), (1,0), (1,1)]\n",
    "correct_outputs = [True, False, True, False]\n",
    "outputs = []\n",
    "for ip,op in zip(test_inputs, correct_outputs):\n",
    "    linear_combination = ip[0] * weight1 + ip[1] * weight2 + bias\n",
    "    output = (linear_combination >=0)\n",
    "    output_string = \"yes\" if output == op else \"no\"\n",
    "    outputs.append([ip[0], ip[1], linear_combination, output, output_string])\n",
    "num_wrong = len([output[4] for output in outputs if output[4] == 'No'])\n",
    "output_frame = pd.DataFrame(outputs, columns=['Input 1', '  Input 2', '  Linear Combination', '  Activation Output', '  Is Correct'])\n",
    "if not num_wrong:\n",
    "    print('Nice!  You got it all correct.\\n')\n",
    "else:\n",
    "    print('You got {} wrong.  Keep trying!\\n'.format(num_wrong))\n",
    "print(output_frame.to_string(index=False))"
   ]
  },
  {
   "cell_type": "code",
   "execution_count": 39,
   "id": "315842c6-7367-42c1-b914-87bb091b0b93",
   "metadata": {},
   "outputs": [],
   "source": [
    "def perceptron(inputs, outputs, weights, bias):\n",
    "    pred_output = []\n",
    "    for ip, op in zip(inputs, outputs):\n",
    "        linear_combination = weights[0]*ip[0] + weights[1]*ip[1] + bias\n",
    "        output = linear_combination >= 0\n",
    "        string_output = 'yes' if output == op else 'no'\n",
    "        pred_output.append([ip[0], ip[1], linear_combination, output, string_output])\n",
    "    return pred_output"
   ]
  },
  {
   "cell_type": "code",
   "execution_count": 40,
   "id": "1f3d2620-b17c-4e71-8c73-2bdf6f2d849f",
   "metadata": {},
   "outputs": [
    {
     "name": "stdout",
     "output_type": "stream",
     "text": [
      "Nice!  You got it all correct.\n",
      "\n",
      " Input 1    Input 2    Linear Combination    Activation Output   Is Correct\n",
      "       0          0                  -2.0                False          yes\n",
      "       0          1                  -1.0                False          yes\n",
      "       1          0                  -1.0                False          yes\n",
      "       1          1                   0.0                 True          yes\n"
     ]
    }
   ],
   "source": [
    "#perceptron as and gate\n",
    "\n",
    "weight1 = 1.0\n",
    "weight2 = 1.0\n",
    "bias = -2.0\n",
    "\n",
    "inputs = [(0,0),(0,1),(1,0),(1,1)]\n",
    "and_outputs = [False, False, False, True]\n",
    "outputs = perceptron(inputs, and_outputs, [weight1, weight2], bias)\n",
    "\n",
    "num_wrong = len([output[4] for output in outputs if output[4] == 'No'])\n",
    "output_frame = pd.DataFrame(outputs, columns=['Input 1', '  Input 2', '  Linear Combination', '  Activation Output', '  Is Correct'])\n",
    "if not num_wrong:\n",
    "    print('Nice!  You got it all correct.\\n')\n",
    "else:\n",
    "    print('You got {} wrong.  Keep trying!\\n'.format(num_wrong))\n",
    "print(output_frame.to_string(index=False))"
   ]
  },
  {
   "cell_type": "code",
   "execution_count": 44,
   "id": "62a947ec-e424-4534-a698-9f18c3f2c74d",
   "metadata": {},
   "outputs": [
    {
     "name": "stdout",
     "output_type": "stream",
     "text": [
      "Nice!  You got it all correct.\n",
      "\n",
      " Input 1    Input 2    Linear Combination    Activation Output   Is Correct\n",
      "       0          0                  -1.0                False          yes\n",
      "       0          1                   0.0                 True          yes\n",
      "       1          0                   0.0                 True          yes\n",
      "       1          1                   1.0                 True          yes\n"
     ]
    }
   ],
   "source": [
    "#perceptron as or gate\n",
    "weight1 = 1.0\n",
    "weight2 = 1.0\n",
    "bias = -1.0\n",
    "inputs = [(0,0),(0,1),(1,0),(1,1)]\n",
    "or_outputs = [False, True, True, True]\n",
    "outputs = perceptron(inputs, or_outputs, [weight1, weight2], bias)\n",
    "\n",
    "num_wrong = len([output[4] for output in outputs if output[4] == 'No'])\n",
    "output_frame = pd.DataFrame(outputs, columns=['Input 1', '  Input 2', '  Linear Combination', '  Activation Output', '  Is Correct'])\n",
    "if not num_wrong:\n",
    "    print('Nice!  You got it all correct.\\n')\n",
    "else:\n",
    "    print('You got {} wrong.  Keep trying!\\n'.format(num_wrong))\n",
    "print(output_frame.to_string(index=False))"
   ]
  },
  {
   "cell_type": "code",
   "execution_count": 49,
   "id": "5df64149-1ef8-438d-b76e-b80582fe6698",
   "metadata": {},
   "outputs": [
    {
     "name": "stdout",
     "output_type": "stream",
     "text": [
      "Nice!  You got it all correct.\n",
      "\n",
      " Input 1    Input 2    Linear Combination    Activation Output   Is Correct\n",
      "       0          0                   1.0                 True          yes\n",
      "       0          1                  -1.0                False          yes\n",
      "       1          0                   1.0                 True          yes\n",
      "       1          1                  -1.0                False          yes\n"
     ]
    }
   ],
   "source": [
    "#perceptron as not gate\n",
    "\n",
    "weight1 = 0.0\n",
    "weight2 = -2.0\n",
    "bias = 1.0\n",
    "inputs = [(0,0),(0,1),(1,0),(1,1)]\n",
    "or_outputs = [True, False, True, False]\n",
    "outputs = perceptron(inputs, or_outputs, [weight1, weight2], bias)\n",
    "\n",
    "num_wrong = len([output[4] for output in outputs if output[4] == 'No'])\n",
    "output_frame = pd.DataFrame(outputs, columns=['Input 1', '  Input 2', '  Linear Combination', '  Activation Output', '  Is Correct'])\n",
    "if not num_wrong:\n",
    "    print('Nice!  You got it all correct.\\n')\n",
    "else:\n",
    "    print('You got {} wrong.  Keep trying!\\n'.format(num_wrong))\n",
    "print(output_frame.to_string(index=False))"
   ]
  },
  {
   "cell_type": "code",
   "execution_count": 53,
   "id": "e187e301-81ec-40e4-9658-81e5a812f198",
   "metadata": {},
   "outputs": [],
   "source": [
    "def perceptron(inputs, params):\n",
    "    pred_output = []\n",
    "    for ip in inputs:\n",
    "        linear_combination = params[0]*ip[0] + params[1]*ip[1] + params[2]\n",
    "        output = linear_combination >= 0\n",
    "        pred_output.append(output)\n",
    "    return pred_output"
   ]
  },
  {
   "cell_type": "code",
   "execution_count": 89,
   "id": "8e1e1d03-36d2-4afc-be12-e04a43d7d7eb",
   "metadata": {},
   "outputs": [
    {
     "name": "stdout",
     "output_type": "stream",
     "text": [
      " Input 1    Input 2     and      nand     or     xor\n",
      "       0          0    False     True  False   False\n",
      "       0          1    False     True   True    True\n",
      "       1          0    False     True   True    True\n",
      "       1          1     True    False   True   False\n"
     ]
    }
   ],
   "source": [
    "or_weights_bias = [1,1,-1]\n",
    "and_weights_bias = [1, 1, -2]\n",
    "not_weights = [0,-2, 1]\n",
    "xor_weights = [0,0,0]\n",
    "inputs = [(0,0),(0,1),(1,0),(1,1)]\n",
    "xor_outputs = [False, True, True, False]\n",
    "xor_inputs = []\n",
    "\n",
    "and_output = perceptron(inputs, and_weights_bias)\n",
    "temp_output = []\n",
    "for i in range(len(and_output)):\n",
    "    temp_output.append([False, and_output[i]])\n",
    "    \n",
    "nand_output = perceptron(temp_output, not_weights)\n",
    "\n",
    "or_output = perceptron(inputs, or_weights_bias)\n",
    "\n",
    "for i in range(len(nand_output)):\n",
    "    xor_inputs.append([or_output[i], nand_output[i]])\n",
    "\n",
    "\n",
    "xor_output = perceptron(xor_inputs, and_weights_bias)\n",
    "\n",
    "outputs = []\n",
    "for i in range(len(inputs)):\n",
    "    outputs.append([inputs[i][0], inputs[i][1], and_output[i], nand_output[i], or_output[i], xor_output[i]])\n",
    "output_frame = pd.DataFrame(outputs, columns=['Input 1', '  Input 2', '   and ', '   nand', '   or', '   xor'])\n",
    "print(output_frame.to_string(index=False))"
   ]
  },
  {
   "cell_type": "code",
   "execution_count": 92,
   "id": "3e6608d7-424c-4c8e-92c2-1c1175e323dc",
   "metadata": {},
   "outputs": [],
   "source": [
    "#perceptron algorithm\n",
    "import numpy as np \n",
    "import pandas as pd\n",
    "\n",
    "np.random.seed(42)\n",
    "\n",
    "def stepFunction(t):\n",
    "    if t >= 0:\n",
    "        return 1\n",
    "    return 0\n",
    "\n",
    "\n",
    "def prediction(W, X, b):\n",
    "    return stepFunction((np.matmul(X,W)+b)[0])\n",
    "\n",
    "# def perceptronStep(X, y, W, b, learning_rate=0.1):\n",
    "#     for i in range(len(X)):\n",
    "#         y_hat = prediction(W, X[i], b)\n",
    "#         if y_hat - y[i] == 1:\n",
    "#             W[0] = W[0] - learning_rate * X[i][0]\n",
    "#             W[1] = W[1] - learning_rate * X[i][1]\n",
    "#             b-=learning_rate\n",
    "            \n",
    "#         elif y_hat - y[i] == -1:\n",
    "#             W[0] = W[0] + learning_rate * X[i][0]\n",
    "#             W[1] = W[1] + learning_rate * X[i][1]\n",
    "#             b += learning_rate\n",
    "#     return W, b\n",
    "\n",
    "def perceptronStep(X, y, W, b, learn_rate = 0.01):\n",
    "    for i in range(len(X)):\n",
    "        y_hat = prediction(W,X[i],b)\n",
    "        if y[i]-y_hat == 1:\n",
    "            W[0] += X[i][0]*learn_rate\n",
    "            W[1] += X[i][1]*learn_rate\n",
    "            b += learn_rate\n",
    "        elif y[i]-y_hat == -1:\n",
    "            W[0] -= X[i][0]*learn_rate\n",
    "            W[1] -= X[i][1]*learn_rate\n",
    "            b -= learn_rate\n",
    "    return W, b\n",
    "            \n",
    "\n",
    "data = np.array(pd.read_csv(\"data.csv\"))\n",
    "# This function runs the perceptron algorithm repeatedly on the dataset,\n",
    "# and returns a few of the boundary lines obtained in the iterations,\n",
    "# for plotting purposes.\n",
    "# Feel free to play with the learning rate and the num_epochs,\n",
    "# and see your results plotted below.\n",
    "def trainPerceptronAlgorithm(X, y, learn_rate = 0.001, num_epochs = 25):\n",
    "    x_min, x_max = min(X.T[0]), max(X.T[0])\n",
    "    y_min, y_max = min(X.T[1]), max(X.T[1])\n",
    "    W = np.array(np.random.rand(2,1))\n",
    "    b = np.random.rand(1)[0] + x_max\n",
    "    # These are the solution lines that get plotted below.\n",
    "    boundary_lines = []\n",
    "    for i in range(num_epochs):\n",
    "        # In each epoch, we apply the perceptron step.\n",
    "        W, b = perceptronStep(X, y, W, b, learn_rate)\n",
    "        \n",
    "        boundary_lines.append((float(-W[0]/W[1]), float(-b/W[1])))\n",
    "    return boundary_lines\n",
    "\n",
    "boundary_lines = trainPerceptronAlgorithm(data[:,:2], data[:,2], num_epochs = 1000)\n"
   ]
  },
  {
   "cell_type": "code",
   "execution_count": 93,
   "id": "358e7d85-0a84-482f-bebb-9de641373327",
   "metadata": {},
   "outputs": [
    {
     "data": {
      "image/png": "[encoded data removed]",
      "text/plain": [
       "<Figure size 640x480 with 1 Axes>"
      ]
     },
     "metadata": {},
     "output_type": "display_data"
    }
   ],
   "source": [
    "import matplotlib.pyplot as plt\n",
    "for i in range(len(data)):\n",
    "    if data[i,2] == 0:\n",
    "        plt.scatter(data[i,0], data[i,1], c=\"red\")\n",
    "    else:\n",
    "        plt.scatter(data[:,0], data[:,1], c=\"blue\")\n",
    "for line in boundary_lines:\n",
    "    plt.plot(line)"
   ]
  },
  {
   "cell_type": "code",
   "execution_count": 97,
   "id": "06ac14f9-da7f-45c3-8ee6-2297be6613ed",
   "metadata": {},
   "outputs": [
    {
     "data": {
      "text/plain": [
       "[0.09003057317038046, 0.24472847105479764, 0.6652409557748219]"
      ]
     },
     "execution_count": 97,
     "metadata": {},
     "output_type": "execute_result"
    }
   ],
   "source": [
    "#softmax function\n",
    "# Write a function that takes as input a list of numbers, and returns\n",
    "# the list of values given by the softmax function.\n",
    "from math import exp\n",
    "import numpy as np\n",
    "def softmax(L):\n",
    "    sums = sum(np.exp(L))\n",
    "    return [exp(i)/sums for i in L]\n",
    "\n",
    "lst = [0,1,2]\n",
    "softmax(lst)"
   ]
  },
  {
   "cell_type": "code",
   "execution_count": 15,
   "id": "a7ffffbc-82f1-4483-aded-bdb71f6ba5c1",
   "metadata": {},
   "outputs": [],
   "source": [
    "#cross entropy\n",
    "import numpy as np\n",
    "\n",
    "def cross_entropy(Y,P):\n",
    "    if len(Y) != len(P):\n",
    "        return\n",
    "    entropy = 0;\n",
    "    for i in range(len(Y)):\n",
    "        entropy -= Y[i]*np.log(P[i]) + (1-Y[i])*np.log(1-P[i])\n",
    "        print(entropy)\n",
    "    \n",
    "    return entropy"
   ]
  },
  {
   "cell_type": "code",
   "execution_count": 16,
   "id": "f0748b97-8cf9-448d-bd75-c8d565656758",
   "metadata": {},
   "outputs": [
    {
     "name": "stdout",
     "output_type": "stream",
     "text": [
      "0.2231435513142097\n",
      "0.5798184952529422\n",
      "2.8824035882469876\n"
     ]
    },
    {
     "data": {
      "text/plain": [
       "2.8824035882469876"
      ]
     },
     "execution_count": 16,
     "metadata": {},
     "output_type": "execute_result"
    }
   ],
   "source": [
    "P = [0.8, 0.7, 0.1]\n",
    "Y = [1,1,1]\n",
    "cross_entropy(Y,P)"
   ]
  },
  {
   "cell_type": "code",
   "execution_count": 45,
   "id": "eb43fbd1-7ecb-49a9-a4b9-c70c3416fc75",
   "metadata": {},
   "outputs": [
    {
     "name": "stdout",
     "output_type": "stream",
     "text": [
      "weight = [-1.02329949 -0.16989846]\n",
      "b = -1.2329948737453538\n",
      "y-hat = 0.2000000000000001\n",
      "error = -8.326672684688674e-17\n"
     ]
    }
   ],
   "source": [
    "#gradient descent\n",
    "import numpy as np\n",
    "def sigmoid(x):\n",
    "    return 1 / (1+np.exp(-x))\n",
    "\n",
    "def sigmoid_prime(x):\n",
    "    return sigmoid(x) * (1 - sigmoid(x))\n",
    "\n",
    "x = np.array([0.1, 0.3])\n",
    "y = 0.2\n",
    "weights = np.array([-0.8, 0.5])\n",
    "learning_rate = 0.5\n",
    "b = 1\n",
    "\n",
    "for i in range(10000):\n",
    "    \n",
    "    nn_output = sigmoid(x[0]*weights[0] + x[1]*weights[1] + b)\n",
    "    error = y - nn_output\n",
    "    del_w = [learning_rate * error * x[0], learning_rate * error * x[1]]\n",
    "    weights += del_w\n",
    "    b += learning_rate * error\n",
    "print(f\"weight = {weights}\")\n",
    "print(f\"b = {b}\")\n",
    "print(f\"y-hat = {nn_output}\")\n",
    "print(f\"error = {error}\")\n"
   ]
  },
  {
   "cell_type": "code",
   "execution_count": 27,
   "id": "ec88f05e-bd37-42c0-8923-59a13ba40162",
   "metadata": {},
   "outputs": [
    {
     "name": "stdout",
     "output_type": "stream",
     "text": [
      "[-0.003963803079006883, -0.011891409237020648]\n"
     ]
    }
   ],
   "source": []
  },
  {
   "cell_type": "code",
   "execution_count": 56,
   "id": "5ca4950d-1d9a-40ab-95e7-2bd8dcc4e062",
   "metadata": {},
   "outputs": [
    {
     "name": "stdout",
     "output_type": "stream",
     "text": [
      "weight = [ 0.6 -0.3]\n",
      "b = 1.1000000000000005\n",
      "y-hat = 0.4999999999999999\n",
      "error = 1.1102230246251565e-16\n"
     ]
    }
   ],
   "source": [
    "#gradient descent\n",
    "import numpy as np\n",
    "\n",
    "def sigmoid(x):\n",
    "    return 1 / (1 + np.exp(-x))\n",
    "\n",
    "x = np.array([1, 2])\n",
    "y = 0.5\n",
    "learning_rate = 0.5\n",
    "w = np.array([0.5, -0.5])\n",
    "b = 1\n",
    "\n",
    "for i in range(1000):\n",
    "    y_hat = sigmoid(np.dot(w,x))\n",
    "    error = y - y_hat\n",
    "    w[0] += learning_rate * error * y_hat * (1 - y_hat) * x[0]\n",
    "    w[1] += learning_rate * error * y_hat * (1 - y_hat) * x[1]\n",
    "    b += learning_rate * error * y_hat * (1 - y_hat) \n",
    "\n",
    "print(f\"weight = {w}\")\n",
    "print(f\"b = {b}\")\n",
    "print(f\"y-hat = {y_hat}\")\n",
    "print(f\"error = {error}\")\n",
    "\n",
    "    "
   ]
  },
  {
   "cell_type": "code",
   "execution_count": 19,
   "id": "ba62c2b6-a69a-4e83-99d6-3c1ba3ff3300",
   "metadata": {},
   "outputs": [
    {
     "name": "stdout",
     "output_type": "stream",
     "text": [
      "Hidden-layer Output:\n",
      "[0.41492192 0.42604313 0.5002434 ]\n",
      "Output-layer Output:\n",
      "[0.49815196 0.48539772]\n"
     ]
    }
   ],
   "source": [
    "#multilayer perceptrons\n",
    "import numpy as np\n",
    "def sigmoid(x):\n",
    "    return 1 / (1 + np.exp(-x))\n",
    "\n",
    "N_input = 4\n",
    "N_hidden = 3\n",
    "N_output = 2\n",
    "\n",
    "np.random.seed(42)\n",
    "\n",
    "X = np.random.randn(4)\n",
    "weights_input_to_hidden = np.random.normal(0, scale=0.1, size=(N_input, N_hidden))\n",
    "weights_hidden_to_output = np.random.normal(0, scale=0.1, size=(N_hidden, N_output))\n",
    "\n",
    "hidden_layer_in = np.dot(X, weights_input_to_hidden)\n",
    "hidden_layer_out = sigmoid(hidden_layer_in)\n",
    "print('Hidden-layer Output:')\n",
    "print(hidden_layer_out)\n",
    "\n",
    "output_layer_in = np.dot(hidden_layer_out, weights_hidden_to_output)\n",
    "output_layer_out = sigmoid(output_layer_in)\n",
    "\n",
    "print('Output-layer Output:')\n",
    "print(output_layer_out)\n",
    "\n"
   ]
  },
  {
   "cell_type": "code",
   "execution_count": null,
   "id": "d5c8f1c2-285f-4b3e-9598-b0cb9df8347f",
   "metadata": {},
   "outputs": [],
   "source": []
  }
 ],
 "metadata": {
  "kernelspec": {
   "display_name": "Python 3 (ipykernel)",
   "language": "python",
   "name": "python3"
  },
  "language_info": {
   "codemirror_mode": {
    "name": "ipython",
    "version": 3
   },
   "file_extension": ".py",
   "mimetype": "text/x-python",
   "name": "python",
   "nbconvert_exporter": "python",
   "pygments_lexer": "ipython3",
   "version": "3.7.3"
  }
 },
 "nbformat": 4,
 "nbformat_minor": 5
}
