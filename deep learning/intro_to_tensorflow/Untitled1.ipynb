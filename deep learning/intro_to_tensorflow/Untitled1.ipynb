{
 "cells": [
  {
   "cell_type": "code",
   "execution_count": 7,
   "id": "d64ee183-17ae-4937-adf3-832ee77dd3c7",
   "metadata": {},
   "outputs": [],
   "source": [
    "import tensorflow as tf"
   ]
  },
  {
   "cell_type": "code",
   "execution_count": 6,
   "id": "5b50fe68-2577-4370-a335-39d3f30d5b9d",
   "metadata": {},
   "outputs": [],
   "source": [
    "\n",
    "n_features = 728\n",
    "n_labels = 3\n"
   ]
  },
  {
   "cell_type": "code",
   "execution_count": 17,
   "id": "bbcf8f35-8ce5-4b07-a750-19c40359a722",
   "metadata": {},
   "outputs": [],
   "source": [
    "def getWeights(n_features, n_labels):\n",
    "    return tf.Variable(tf.random.truncated_normal((n_features, n_labels)))\n",
    "\n",
    "def getBias(n_labels):\n",
    "    return tf.Variable(tf.zeros(n_labels))\n",
    "\n",
    "def linear(W, x, b):\n",
    "    return tf.add(tf.matmul(x,W), b)"
   ]
  },
  {
   "cell_type": "code",
   "execution_count": 1,
   "id": "e71e2358-a7ab-4347-834e-6de2a48bf7ba",
   "metadata": {},
   "outputs": [
    {
     "ename": "NameError",
     "evalue": "name 'getBias' is not defined",
     "output_type": "error",
     "traceback": [
      "\u001b[1;31m---------------------------------------------------------------------------\u001b[0m",
      "\u001b[1;31mNameError\u001b[0m                                 Traceback (most recent call last)",
      "\u001b[1;32mC:\\conda_tmp\\ipykernel_4016\\299831299.py\u001b[0m in \u001b[0;36m<module>\u001b[1;34m\u001b[0m\n\u001b[1;32m----> 1\u001b[1;33m \u001b[0mb\u001b[0m \u001b[1;33m=\u001b[0m \u001b[0mgetBias\u001b[0m\u001b[1;33m(\u001b[0m\u001b[0mn_labels\u001b[0m\u001b[1;33m)\u001b[0m\u001b[1;33m\u001b[0m\u001b[1;33m\u001b[0m\u001b[0m\n\u001b[0m\u001b[0;32m      2\u001b[0m \u001b[0mw\u001b[0m \u001b[1;33m=\u001b[0m \u001b[0mgetWeights\u001b[0m\u001b[1;33m(\u001b[0m\u001b[0mn_features\u001b[0m\u001b[1;33m,\u001b[0m \u001b[0mn_labels\u001b[0m\u001b[1;33m)\u001b[0m\u001b[1;33m\u001b[0m\u001b[1;33m\u001b[0m\u001b[0m\n\u001b[0;32m      3\u001b[0m \u001b[0mtf\u001b[0m\u001b[1;33m.\u001b[0m\u001b[0mprint\u001b[0m\u001b[1;33m(\u001b[0m\u001b[0mb\u001b[0m\u001b[1;33m)\u001b[0m\u001b[1;33m\u001b[0m\u001b[1;33m\u001b[0m\u001b[0m\n\u001b[0;32m      4\u001b[0m \u001b[0mtf\u001b[0m\u001b[1;33m.\u001b[0m\u001b[0mprint\u001b[0m\u001b[1;33m(\u001b[0m\u001b[0mw\u001b[0m\u001b[1;33m)\u001b[0m\u001b[1;33m\u001b[0m\u001b[1;33m\u001b[0m\u001b[0m\n",
      "\u001b[1;31mNameError\u001b[0m: name 'getBias' is not defined"
     ]
    }
   ],
   "source": [
    "b = getBias(n_labels)\n",
    "w = getWeights(n_features, n_labels)\n",
    "tf.print(b)\n",
    "tf.print(w)"
   ]
  },
  {
   "cell_type": "code",
   "execution_count": 2,
   "id": "d8e90afe-a745-4a27-9a07-a3aff7fb9be4",
   "metadata": {},
   "outputs": [],
   "source": [
    "import tensorflow as tf"
   ]
  },
  {
   "cell_type": "code",
   "execution_count": 5,
   "id": "a7024988-7b37-4255-88f3-2df831422d7e",
   "metadata": {},
   "outputs": [],
   "source": [
    "n_input = 784\n",
    "n_classes = 10"
   ]
  },
  {
   "cell_type": "code",
   "execution_count": 15,
   "id": "52f19770-6993-448f-9560-0b57fea13f01",
   "metadata": {},
   "outputs": [
    {
     "data": {
      "text/plain": [
       "TensorShape([10])"
      ]
     },
     "execution_count": 15,
     "metadata": {},
     "output_type": "execute_result"
    }
   ],
   "source": [
    "weights = tf.Variable(tf.compat.v1.random_normal([n_input, n_classes]))\n",
    "bias = tf.Variable(tf.compat.v1.random_normal([n_classes]))\n",
    "bias.shape"
   ]
  },
  {
   "cell_type": "code",
   "execution_count": null,
   "id": "8203d8f2-c71d-4dca-8e70-0ee59f4c0c39",
   "metadata": {},
   "outputs": [],
   "source": []
  }
 ],
 "metadata": {
  "kernelspec": {
   "display_name": "Python 3 (ipykernel)",
   "language": "python",
   "name": "python3"
  },
  "language_info": {
   "codemirror_mode": {
    "name": "ipython",
    "version": 3
   },
   "file_extension": ".py",
   "mimetype": "text/x-python",
   "name": "python",
   "nbconvert_exporter": "python",
   "pygments_lexer": "ipython3",
   "version": "3.7.3"
  }
 },
 "nbformat": 4,
 "nbformat_minor": 5
}
