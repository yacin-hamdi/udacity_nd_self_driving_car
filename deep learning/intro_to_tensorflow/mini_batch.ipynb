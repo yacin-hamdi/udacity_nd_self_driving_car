{
 "cells": [
  {
   "cell_type": "code",
   "execution_count": 2,
   "id": "59515199-a8c8-4f13-bf9e-de57a8fa0424",
   "metadata": {},
   "outputs": [
    {
     "name": "stdout",
     "output_type": "stream",
     "text": [
      "batch-0:[[['F11', 'F12', 'F13', 'F14']], [['L11', 'L12']]]\n",
      "batch-1:[[['F21', 'F22', 'F23', 'F24']], [['L21', 'L22']]]\n",
      "batch-2:[[['F31', 'F32', 'F33', 'F34']], [['L31', 'L32']]]\n",
      "batch-3:[[['F41', 'F42', 'F43', 'F44']], [['L41', 'L42']]]\n"
     ]
    }
   ],
   "source": [
    "from quiz import batches\n",
    "# from pprint import pprint\n",
    "\n",
    "# 4 Samples of features\n",
    "example_features = [\n",
    "    ['F11','F12','F13','F14'],\n",
    "    ['F21','F22','F23','F24'],\n",
    "    ['F31','F32','F33','F34'],\n",
    "    ['F41','F42','F43','F44']]\n",
    "# 4 Samples of labels\n",
    "example_labels = [\n",
    "    ['L11','L12'],\n",
    "    ['L21','L22'],\n",
    "    ['L31','L32'],\n",
    "    ['L41','L42']]\n",
    "\n",
    "# PPrint prints data structures like 2d arrays, so they are easier to read\n",
    "# pprint(batches(3, example_features, example_labels))\n",
    "\n",
    "a = batches(1, example_features, example_labels)\n",
    "for i in range(len(a)):\n",
    "    print(f'batch-{i}:{a[i]}')"
   ]
  },
  {
   "cell_type": "code",
   "execution_count": null,
   "id": "21f2d068-4647-42a5-907a-46668f129ce5",
   "metadata": {},
   "outputs": [],
   "source": []
  }
 ],
 "metadata": {
  "kernelspec": {
   "display_name": "Python 3 (ipykernel)",
   "language": "python",
   "name": "python3"
  },
  "language_info": {
   "codemirror_mode": {
    "name": "ipython",
    "version": 3
   },
   "file_extension": ".py",
   "mimetype": "text/x-python",
   "name": "python",
   "nbconvert_exporter": "python",
   "pygments_lexer": "ipython3",
   "version": "3.7.3"
  }
 },
 "nbformat": 4,
 "nbformat_minor": 5
}
