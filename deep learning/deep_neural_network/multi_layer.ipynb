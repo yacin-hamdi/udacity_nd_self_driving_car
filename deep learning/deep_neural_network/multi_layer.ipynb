{
 "cells": [
  {
   "cell_type": "code",
   "execution_count": 1,
   "id": "292d06c8-7e3a-45c5-bf0a-79d29c7b405e",
   "metadata": {},
   "outputs": [],
   "source": [
    "from tensorflow.keras.datasets import mnist\n",
    "import tensorflow as tf\n",
    "from tensorflow.keras.utils import to_categorical\n",
    "import numpy as np\n",
    "import os\n",
    "tf.compat.v1.disable_eager_execution()"
   ]
  },
  {
   "cell_type": "code",
   "execution_count": 2,
   "id": "b8332a87-0ab3-4133-af5a-7ea453b4c54b",
   "metadata": {},
   "outputs": [
    {
     "name": "stdout",
     "output_type": "stream",
     "text": [
      "x_train:(60000, 28, 28)\n",
      "y_train:(60000,)\n",
      "x_test:(10000, 28, 28)\n",
      "y_test:(10000,)\n"
     ]
    }
   ],
   "source": [
    "path = os.getcwd() + \"\\mnist.npz\"\n",
    "(x_train, y_train), (x_test, y_test) = mnist.load_data(path=path)\n",
    "\n",
    "print(f'x_train:{x_train.shape}')\n",
    "print(f'y_train:{y_train.shape}')\n",
    "print(f'x_test:{x_test.shape}')\n",
    "print(f'y_test:{y_test.shape}')"
   ]
  },
  {
   "cell_type": "code",
   "execution_count": 3,
   "id": "0214de6d-9e74-4ba3-aecf-1b39cb8ac828",
   "metadata": {},
   "outputs": [],
   "source": [
    "n_inputs = 784\n",
    "n_hidden_layer = 256\n",
    "n_classes = 10\n",
    "learn_rate = 0.001\n",
    "batch_size = 128\n",
    "training_epochs = 20\n",
    "display_step = int(x_train.shape[0] / batch_size)\n"
   ]
  },
  {
   "cell_type": "code",
   "execution_count": 11,
   "id": "df5ec026-bcf8-4f0f-a0d8-55fb7822d240",
   "metadata": {},
   "outputs": [],
   "source": [
    "# #flatten input\n",
    "# x_train = x_train.astype(np.float32)\n",
    "# x_test = x_test.astype(np.float32)\n",
    "# x_train = tf.reshape(x_train, [-1, n_inputs])\n",
    "# x_test = tf.reshape(x_test, [-1, n_inputs])\n",
    "\n",
    "\n",
    "\n",
    "# #normilize image\n",
    "# x_train, x_test = x_train / 255.0, y_train / 255.0\n",
    "\n",
    "# train_data = tf.data.Dataset.from_tensor_slices((x_train, y_train))\n",
    "# train_data = train_data.repeat().shuffle(5000).batch(batch_size).prefetch(1)\n",
    "\n",
    "# #one hot encoding outputs\n",
    "# y_train = to_categorical(y_train.astype(np.float32))\n",
    "# y_test = to_categorical(y_test.astype(np.float32))\n",
    "(train_feature, train_label), (test_feature, test_label) = mnist.load_data(path=path)\n",
    "\n",
    "train_feature, test_feature = np.array(train_feature, np.float32), np.array(test_feature, np.float32)\n",
    "train_feature = train_feature.reshape(-1, train_feature.shape[0]).T\n",
    "test_feature = test_feature.reshape(-1, test_feature.shape[0]).T\n",
    "\n",
    "train_feature = train_feature / 255.0\n",
    "test_feature = test_feature / 255.0\n",
    "batch_size=32\n",
    "\n",
    "\n",
    "\n",
    "train_label = to_categorical(train_label.astype(np.float32))\n",
    "test_label = to_categorical(test_label.astype(np.float32))\n",
    "\n",
    "\n"
   ]
  },
  {
   "cell_type": "code",
   "execution_count": 18,
   "id": "810ec742-48c3-4cdb-bfd4-399f257c3546",
   "metadata": {},
   "outputs": [
    {
     "name": "stdout",
     "output_type": "stream",
     "text": [
      "x_train:(60000, 784)\n",
      "y_train:(60000, 10)\n",
      "x_test:(10000, 784)\n",
      "y_test:(10000, 10)\n"
     ]
    }
   ],
   "source": [
    "print(f'x_train:{train_feature.shape}')\n",
    "print(f'y_train:{train_label.shape}')\n",
    "print(f'x_test:{test_feature.shape}')\n",
    "print(f'y_test:{test_label.shape}')"
   ]
  },
  {
   "cell_type": "code",
   "execution_count": 12,
   "id": "5460d972-0b24-4269-806c-42a53752fea3",
   "metadata": {},
   "outputs": [],
   "source": [
    "weights = {\"hidden_layer\":tf.Variable(tf.compat.v1.random_normal([n_inputs, n_hidden_layer])), \n",
    "           \"output\":tf.Variable(tf.compat.v1.random_normal([n_hidden_layer, n_classes]))}\n",
    "\n",
    "biases = {\"hidden_layer\": tf.Variable(tf.compat.v1.random_normal([n_hidden_layer])), \n",
    "          \"output\":tf.Variable(tf.compat.v1.random_normal([n_classes]))}"
   ]
  },
  {
   "cell_type": "code",
   "execution_count": 13,
   "id": "c73c6454-c327-4046-939b-f48236b2bfdc",
   "metadata": {},
   "outputs": [
    {
     "name": "stdout",
     "output_type": "stream",
     "text": [
      "(None, 784)\n"
     ]
    }
   ],
   "source": [
    "x = tf.compat.v1.placeholder(tf.float32, [None, n_inputs])\n",
    "y = tf.compat.v1.placeholder(tf.float32, [None, n_classes])\n",
    "print(x.shape)"
   ]
  },
  {
   "cell_type": "code",
   "execution_count": 14,
   "id": "fb0b7219-5b85-4d92-abaf-1984d53c518b",
   "metadata": {},
   "outputs": [],
   "source": [
    "layer_1 = tf.add(tf.matmul(x, weights[\"hidden_layer\"]), biases[\"hidden_layer\"])\n",
    "layer_1 = tf.nn.relu(layer_1)\n",
    "logits = tf.add(tf.matmul(layer_1, weights[\"output\"]), biases[\"output\"])"
   ]
  },
  {
   "cell_type": "code",
   "execution_count": 20,
   "id": "f38fa6cd-92c9-4336-a2b5-7803f92fd10a",
   "metadata": {},
   "outputs": [],
   "source": [
    "cost = tf.reduce_mean(tf.nn.softmax_cross_entropy_with_logits(logits=logits, labels=y_train))\n",
    "optimizer = tf.compat.v1.train.GradientDescentOptimizer(learning_rate=learn_rate).minimize(cost)\n",
    "correct_prediction = tf.equal(tf.argmax(logits, 1), tf.argmax(y,1))\n",
    "accuracy = tf.reduce_mean(tf.cast(correct_prediction, tf.float32))"
   ]
  },
  {
   "cell_type": "code",
   "execution_count": 22,
   "id": "237259e3-7fcf-4209-b889-f10a0524e742",
   "metadata": {},
   "outputs": [],
   "source": [
    "init = tf.compat.v1.global_variables_initializer()\n",
    "\n",
    "with tf.compat.v1.Session() as sess:\n",
    "    sess.run(init)\n",
    "    for i_ep in range(training_epochs):\n",
    "        # for step, (batch_x, batch_y) in enumerate (train_data.take(display_step), 1):\n",
    "        sess.run(optimizer, feed_dict={x:train_feature, y:train_label})\n",
    "    test_accuracy = sess.run(accuracy, feed_dict={x:test_feature, y:test_label})"
   ]
  },
  {
   "cell_type": "code",
   "execution_count": 23,
   "id": "5ff39855-0127-4183-af1f-9f7936cc90ef",
   "metadata": {},
   "outputs": [
    {
     "name": "stdout",
     "output_type": "stream",
     "text": [
      "0.1036\n"
     ]
    }
   ],
   "source": [
    "print(test_accuracy)"
   ]
  },
  {
   "cell_type": "code",
   "execution_count": null,
   "id": "db941c61-b0c2-4357-ae6e-0ed026281a5b",
   "metadata": {},
   "outputs": [],
   "source": []
  }
 ],
 "metadata": {
  "kernelspec": {
   "display_name": "Python 3 (ipykernel)",
   "language": "python",
   "name": "python3"
  },
  "language_info": {
   "codemirror_mode": {
    "name": "ipython",
    "version": 3
   },
   "file_extension": ".py",
   "mimetype": "text/x-python",
   "name": "python",
   "nbconvert_exporter": "python",
   "pygments_lexer": "ipython3",
   "version": "3.7.3"
  }
 },
 "nbformat": 4,
 "nbformat_minor": 5
}
