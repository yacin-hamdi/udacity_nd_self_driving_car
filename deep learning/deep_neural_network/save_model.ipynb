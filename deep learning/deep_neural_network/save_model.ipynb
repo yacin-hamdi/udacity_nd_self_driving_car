{
 "cells": [
  {
   "cell_type": "code",
   "execution_count": 1,
   "id": "461e33fe-6adc-497b-8c70-77f4725a7a9e",
   "metadata": {},
   "outputs": [],
   "source": [
    "import tensorflow.compat.v1 as tf\n",
    "tf.disable_eager_execution()"
   ]
  },
  {
   "cell_type": "code",
   "execution_count": 2,
   "id": "62d1b7b0-d7ba-4c6b-9632-07f62929311f",
   "metadata": {},
   "outputs": [
    {
     "name": "stdout",
     "output_type": "stream",
     "text": [
      "WARNING:tensorflow:From c:\\users\\my pc\\appdata\\local\\programs\\python\\python37\\lib\\site-packages\\tensorflow_core\\python\\ops\\resource_variable_ops.py:1630: calling BaseResourceVariable.__init__ (from tensorflow.python.ops.resource_variable_ops) with constraint is deprecated and will be removed in a future version.\n",
      "Instructions for updating:\n",
      "If using Keras pass *_constraint arguments to layers.\n",
      "weights: [[ 0.6772471  -0.12965752 -1.4594178 ]\n",
      " [ 0.9900947   0.07470361  1.0910541 ]]\n",
      "bias: [ 0.17668974  0.05048426  1.921876   -1.3534063 ]\n"
     ]
    }
   ],
   "source": [
    "#save model\n",
    "save_file = \"model.ckpt\"\n",
    "\n",
    "weights = tf.Variable(tf.truncated_normal([2,3]))\n",
    "bias = tf.Variable(tf.truncated_normal([4]))\n",
    "\n",
    "saver = tf.train.Saver()\n",
    "\n",
    "with tf.Session() as sess:\n",
    "    sess.run(tf.global_variables_initializer())\n",
    "    \n",
    "    print(f\"weights: {sess.run(weights)}\")\n",
    "    print(f\"bias: {sess.run(bias)}\")\n",
    "    \n",
    "    saver.save(sess, save_file)\n",
    "    \n",
    "\n"
   ]
  },
  {
   "cell_type": "code",
   "execution_count": 4,
   "id": "8d74d80e-7241-472c-99e3-7f1207ae7ec0",
   "metadata": {},
   "outputs": [
    {
     "name": "stdout",
     "output_type": "stream",
     "text": [
      "INFO:tensorflow:Restoring parameters from model.ckpt\n",
      "weights: [[ 0.6772471  -0.12965752 -1.4594178 ]\n",
      " [ 0.9900947   0.07470361  1.0910541 ]]\n",
      "bias: [ 0.17668974  0.05048426  1.921876   -1.3534063 ]\n"
     ]
    }
   ],
   "source": [
    "#load model\n",
    "tf.reset_default_graph()\n",
    "\n",
    "weights = tf.Variable(tf.truncated_normal([2,3]))\n",
    "bias = tf.Variable(tf.truncated_normal([4]))\n",
    "\n",
    "saver = tf.train.Saver()\n",
    "\n",
    "with tf.Session() as sess:\n",
    "    saver.restore(sess, save_file)\n",
    "    print(f\"weights: {sess.run(weights)}\")\n",
    "    print(f\"bias: {sess.run(bias)}\")\n"
   ]
  },
  {
   "cell_type": "code",
   "execution_count": 6,
   "id": "8c56b1d9-8ad1-4fc3-b49d-754c8563d073",
   "metadata": {},
   "outputs": [
    {
     "name": "stdout",
     "output_type": "stream",
     "text": [
      "x_train:(60000, 784)\n",
      "y_train:(60000, 10)\n",
      "x_test:(10000, 784)\n",
      "y_test:(10000, 10)\n"
     ]
    },
    {
     "data": {
      "text/plain": [
       "array([[0., 0., 0., 0., 0., 0., 0., 1., 0., 0.],\n",
       "       [0., 0., 1., 0., 0., 0., 0., 0., 0., 0.],\n",
       "       [0., 1., 0., 0., 0., 0., 0., 0., 0., 0.]], dtype=float32)"
      ]
     },
     "execution_count": 6,
     "metadata": {},
     "output_type": "execute_result"
    }
   ],
   "source": [
    "import tensorflow.compat.v1 as tf\n",
    "from tensorflow.keras.datasets import mnist\n",
    "from tensorflow.keras.utils import to_categorical\n",
    "import numpy as np\n",
    "import os\n",
    "tf.disable_eager_execution()\n",
    "\n",
    "learning_rate = 0.001\n",
    "n_input = 784  # MNIST data input (img shape: 28*28)\n",
    "n_classes = 10  # MNIST total classes (0-9 digits)\n",
    "\n",
    "path = os.getcwd() + '\\mnist.npz'\n",
    "(x_train, y_train), (x_test, y_test) = mnist.load_data(path=path)\n",
    "\n",
    "\n",
    "x_train, x_test = np.array(x_train, np.float32), np.array(x_test, np.float32)\n",
    "x_train = x_train.reshape(-1, x_train.shape[0]).T\n",
    "x_test = x_test.reshape(-1, x_test.shape[0]).T\n",
    "\n",
    "x_train = x_train / 255.0\n",
    "x_test = x_test / 255.0\n",
    "\n",
    "y_train = to_categorical(y_train.astype(np.float32))\n",
    "y_test = to_categorical(y_test.astype(np.float32))\n",
    "\n",
    "\n",
    "\n",
    "\n",
    "print(f\"x_train:{x_train.shape}\")\n",
    "print(f\"y_train:{y_train.shape}\")\n",
    "print(f\"x_test:{x_test.shape}\")\n",
    "print(f\"y_test:{y_test.shape}\")\n",
    "y_test[:3]\n"
   ]
  },
  {
   "cell_type": "code",
   "execution_count": 7,
   "id": "59b992e1-0ab6-4427-9c54-deefaef2e21f",
   "metadata": {},
   "outputs": [],
   "source": [
    "\n",
    "\n",
    "# Remove previous Tensors and Operations\n",
    "tf.reset_default_graph()\n",
    "\n",
    "\n",
    "\n",
    "\n",
    "# Import MNIST data\n",
    "\n",
    "# Features and Labels\n",
    "features = tf.placeholder(tf.float32, [None, n_input])\n",
    "labels = tf.placeholder(tf.float32, [None, n_classes])\n",
    "\n",
    "# Weights & bias\n",
    "weights = tf.Variable(tf.random_normal([n_input, n_classes]))\n",
    "bias = tf.Variable(tf.random_normal([n_classes]))\n",
    "\n",
    "# Logits - xW + b\n",
    "logits = tf.add(tf.matmul(features, weights), bias)\n",
    "\n",
    "# Define loss and optimizer\n",
    "cost = tf.reduce_mean(\\\n",
    "    tf.nn.softmax_cross_entropy_with_logits(logits=logits, labels=labels))\n",
    "optimizer = tf.train.GradientDescentOptimizer(learning_rate=learning_rate)\\\n",
    "    .minimize(cost)\n",
    "\n",
    "# Calculate accuracy\n",
    "correct_prediction = tf.equal(tf.argmax(logits, 1), tf.argmax(labels, 1))\n",
    "accuracy = tf.reduce_mean(tf.cast(correct_prediction, tf.float32))"
   ]
  },
  {
   "cell_type": "code",
   "execution_count": 9,
   "id": "bf773fe9-c9c2-40f1-8c71-09b3dd4fd0de",
   "metadata": {},
   "outputs": [
    {
     "name": "stdout",
     "output_type": "stream",
     "text": [
      "Epoch 0   - Validation Accuracy: 0.094200000166893\n",
      "Epoch 10  - Validation Accuracy: 0.09740000218153\n",
      "Epoch 20  - Validation Accuracy: 0.09880000352859497\n",
      "Epoch 30  - Validation Accuracy: 0.09910000115633011\n",
      "Epoch 40  - Validation Accuracy: 0.09920000284910202\n",
      "Epoch 50  - Validation Accuracy: 0.09799999743700027\n",
      "Epoch 60  - Validation Accuracy: 0.09799999743700027\n",
      "Epoch 70  - Validation Accuracy: 0.09799999743700027\n",
      "Epoch 80  - Validation Accuracy: 0.0982000008225441\n",
      "Epoch 90  - Validation Accuracy: 0.0982000008225441\n",
      "Trained Model Saved.\n"
     ]
    }
   ],
   "source": [
    "import math\n",
    "\n",
    "save_file = './train_model.ckpt'\n",
    "batch_size = 128\n",
    "n_epochs = 100\n",
    "\n",
    "saver = tf.train.Saver()\n",
    "\n",
    "# Launch the graph\n",
    "with tf.Session() as sess:\n",
    "    sess.run(tf.global_variables_initializer())\n",
    "\n",
    "    # Training cycle\n",
    "    for epoch in range(n_epochs):\n",
    "        total_batch = math.ceil(x_train.shape[0] / batch_size)\n",
    "\n",
    "        # Loop over all batches\n",
    "        for i in range(total_batch):\n",
    "            batch_start = i*batch_size\n",
    "            batch_features = x_train[batch_start:batch_start + batch_size]\n",
    "            batch_labels = y_train[batch_start:batch_start + batch_size]\n",
    "\n",
    "            sess.run(\n",
    "                optimizer,\n",
    "                feed_dict={features: batch_features, labels: batch_labels})\n",
    "\n",
    "        # Print status for every 10 epochs\n",
    "        if epoch % 10 == 0:\n",
    "            valid_accuracy = sess.run(\n",
    "                accuracy,\n",
    "                feed_dict={\n",
    "                    features:x_test,\n",
    "                    labels:y_test})\n",
    "            print('Epoch {:<3} - Validation Accuracy: {}'.format(\n",
    "                epoch,\n",
    "                valid_accuracy))\n",
    "\n",
    "    # Save the model\n",
    "    saver.save(sess, save_file)\n",
    "    print('Trained Model Saved.')"
   ]
  },
  {
   "cell_type": "code",
   "execution_count": 11,
   "id": "17834b81-65c5-46bc-a0f5-7598ca4df1a6",
   "metadata": {},
   "outputs": [
    {
     "name": "stdout",
     "output_type": "stream",
     "text": [
      "INFO:tensorflow:Restoring parameters from ./train_model.ckpt\n",
      "Test Accuracy: 0.0982000008225441\n"
     ]
    }
   ],
   "source": [
    "saver = tf.train.Saver()\n",
    "\n",
    "# Launch the graph\n",
    "with tf.Session() as sess:\n",
    "    saver.restore(sess, save_file)\n",
    "\n",
    "    test_accuracy = sess.run(\n",
    "        accuracy,\n",
    "        feed_dict={features: x_test, labels: y_test})\n",
    "\n",
    "print('Test Accuracy: {}'.format(test_accuracy))"
   ]
  },
  {
   "cell_type": "code",
   "execution_count": null,
   "id": "74dc742b-830b-49d3-939f-1376dcc7bb0b",
   "metadata": {},
   "outputs": [],
   "source": []
  }
 ],
 "metadata": {
  "kernelspec": {
   "display_name": "Python 3 (ipykernel)",
   "language": "python",
   "name": "python3"
  },
  "language_info": {
   "codemirror_mode": {
    "name": "ipython",
    "version": 3
   },
   "file_extension": ".py",
   "mimetype": "text/x-python",
   "name": "python",
   "nbconvert_exporter": "python",
   "pygments_lexer": "ipython3",
   "version": "3.7.3"
  }
 },
 "nbformat": 4,
 "nbformat_minor": 5
}
