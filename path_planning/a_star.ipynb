{
 "cells": [
  {
   "cell_type": "code",
   "execution_count": 68,
   "id": "6dadda60-cb7d-4cac-9611-6c4b827ead9e",
   "metadata": {},
   "outputs": [
    {
     "name": "stdout",
     "output_type": "stream",
     "text": [
      "\n",
      "\n",
      "[0, -1, -1, -1, -1, -1]\n",
      "[1, -1, -1, -1, -1, -1]\n",
      "[2, -1, -1, -1, -1, -1]\n",
      "[3, -1, 8, 9, 10, 11]\n",
      "[4, 5, 6, 7, -1, 12]\n"
     ]
    }
   ],
   "source": [
    "grid = [[0, 1, 0, 0, 0, 0], \n",
    "        [0, 1, 0, 0, 0, 0], \n",
    "        [0, 1, 0, 0, 0, 0], \n",
    "        [0, 1, 0, 0, 0, 0], \n",
    "        [0, 0, 0, 0, 1, 0]]\n",
    "\n",
    "heuristic = [[9, 8, 7, 6, 5, 4],\n",
    "             [8, 7, 6, 5, 4, 3],\n",
    "             [7, 6, 5, 4, 3, 2],\n",
    "             [6, 5, 4, 3, 2, 1],\n",
    "             [5, 4, 3, 2, 1, 0]]\n",
    "    \n",
    "    \n",
    "start = [0, 0]\n",
    "goal = [len(grid)-1, len(grid[0])-1]\n",
    "\n",
    "delta = [[-1, 0], #up\n",
    "         [0, -1], #left\n",
    "         [1, 0],  #down\n",
    "         [0, 1]]  #right\n",
    "\n",
    "delta_name = ['^', '<', 'v', '>']\n",
    "\n",
    "cost = 1\n",
    "open_list = []\n",
    "open_list.append([heuristic[0][0], 0, start[0], start[1]])\n",
    "\n",
    "visited_node = []\n",
    "visited_node.append(start)\n",
    "expand = [[-1 for i in grid[0]] for j in grid]\n",
    "expand[start[0]][start[1]] = 0\n",
    "count = 0\n",
    "\n",
    "path = [['' for i in grid[0]] for j in grid]\n",
    "\n",
    "print(\"\\n\")\n",
    "\n",
    "\n",
    "while True:\n",
    "    if len(open_list)  == 0:\n",
    "        print(\"failed\")\n",
    "        break;\n",
    "    open_list.sort()\n",
    "    node = open_list[0]\n",
    "    del(open_list[0])\n",
    "    current_node = node[2:]\n",
    "    \n",
    "    expand[current_node[0]][current_node[1]] = count\n",
    "    count += 1\n",
    "    if current_node == goal:\n",
    "        break\n",
    "    for i in range (len(delta)):\n",
    "        x = current_node[0] + delta[i][0]\n",
    "        y = current_node[1] + delta[i][1]\n",
    "        \n",
    "        if x >= 0 and y >= 0 and x < len(grid) and y < len(grid[x]) :\n",
    "            \n",
    "            if [x,y] not in visited_node and grid[x][y] != 1:\n",
    "                \n",
    "                    \n",
    "                g = node[1] + cost\n",
    "                f = g + heuristic[x][y]\n",
    "                open_list.append([f, g, x, y])\n",
    "                \n",
    "                visited_node.append([x, y])\n",
    "                \n",
    "                \n",
    "                \n",
    "    \n",
    "for i in expand:\n",
    "    print(i)\n"
   ]
  },
  {
   "cell_type": "code",
   "execution_count": null,
   "id": "e60d9e32-eb17-40c2-9da7-c1bb68e9f0e4",
   "metadata": {},
   "outputs": [],
   "source": []
  }
 ],
 "metadata": {
  "kernelspec": {
   "display_name": "Python 3",
   "language": "python",
   "name": "python3"
  },
  "language_info": {
   "codemirror_mode": {
    "name": "ipython",
    "version": 3
   },
   "file_extension": ".py",
   "mimetype": "text/x-python",
   "name": "python",
   "nbconvert_exporter": "python",
   "pygments_lexer": "ipython3",
   "version": "3.6.13"
  }
 },
 "nbformat": 4,
 "nbformat_minor": 5
}
