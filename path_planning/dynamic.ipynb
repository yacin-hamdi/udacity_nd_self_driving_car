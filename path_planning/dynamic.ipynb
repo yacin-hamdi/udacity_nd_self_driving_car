{
 "cells": [
  {
   "cell_type": "code",
   "execution_count": 19,
   "id": "be1d1d6c-8132-4624-b65e-eb930e29b4c6",
   "metadata": {},
   "outputs": [
    {
     "name": "stdout",
     "output_type": "stream",
     "text": [
      "['v', ' ', 'v', 'v', 'v', 'v']\n",
      "['v', ' ', 'v', 'v', 'v', 'v']\n",
      "['v', ' ', 'v', 'v', 'v', 'v']\n",
      "['v', ' ', '>', '>', '>', 'v']\n",
      "['>', '>', '^', '^', ' ', '*']\n"
     ]
    }
   ],
   "source": [
    "# ----------\n",
    "# User Instructions:\n",
    "# \n",
    "# Create a function compute_value which returns\n",
    "# a grid of values. The value of a cell is the minimum\n",
    "# number of moves required to get from the cell to the goal. \n",
    "#\n",
    "# If a cell is a wall or it is impossible to reach the goal from a cell,\n",
    "# assign that cell a value of 99.\n",
    "# ----------\n",
    "\n",
    "grid = [[0, 1, 0, 0, 0, 0],\n",
    "        [0, 1, 0, 0, 0, 0],\n",
    "        [0, 1, 0, 0, 0, 0],\n",
    "        [0, 1, 0, 0, 0, 0],\n",
    "        [0, 0, 0, 0, 1, 0]]\n",
    "goal = [len(grid)-1, len(grid[0])-1]\n",
    "cost = 1 # the cost associated with moving from a cell to an adjacent one\n",
    "\n",
    "delta = [[-1, 0 ], # go up\n",
    "         [ 0, -1], # go left\n",
    "         [ 1, 0 ], # go down\n",
    "         [ 0, 1 ]] # go right\n",
    "\n",
    "delta_name = ['^', '<', 'v', '>']\n",
    "\n",
    "def compute_value(grid,goal,cost):\n",
    "    # ----------------------------------------\n",
    "    # insert code below\n",
    "    # ----------------------------------------\n",
    "    value = [[99 for i in grid[0]] for j in grid]\n",
    "    policy = [[\" \" for i in grid[0]] for j in grid]\n",
    "    change = True\n",
    "    \n",
    "    while change:\n",
    "        change = False\n",
    "        \n",
    "        for x in range(len(grid)):\n",
    "            for y in range(len(grid[0])):\n",
    "                if [x, y] == goal:\n",
    "                    if value[x][y] > 0:\n",
    "                        value[x][y] = 0\n",
    "                        policy[x][y] = '*'\n",
    "                        change = True\n",
    "                \n",
    "                elif grid[x][y] == 0:\n",
    "                    \n",
    "                    for dt in range(len(delta)):\n",
    "                        x2 = x + delta[dt][0]\n",
    "                        y2 = y + delta[dt][1]\n",
    "                    \n",
    "                        if x2 >= 0 and y2 >= 0 and x2 < len(grid) and y2 < len(grid[0]):\n",
    "                            if grid[x2][y2] == 0:\n",
    "                                v2 = value[x2][y2] + cost\n",
    "                                if v2 < value[x][y]:\n",
    "                                    value[x][y] = v2\n",
    "                                    policy[x][y] = delta_name[dt]\n",
    "                                    change = True\n",
    "                                \n",
    "                \n",
    "                \n",
    "        \n",
    "    # make sure your function returns a grid of values as \n",
    "    # demonstrated in the previous video.\n",
    "    return policy \n",
    "\n",
    "value = compute_value(grid, goal, cost)\n",
    "\n",
    "\n",
    "for val in value:\n",
    "    print(val)"
   ]
  },
  {
   "cell_type": "code",
   "execution_count": null,
   "id": "e6e1cdf9-843a-4025-86f3-28aaf4172aba",
   "metadata": {},
   "outputs": [],
   "source": []
  }
 ],
 "metadata": {
  "kernelspec": {
   "display_name": "Python 3",
   "language": "python",
   "name": "python3"
  },
  "language_info": {
   "codemirror_mode": {
    "name": "ipython",
    "version": 3
   },
   "file_extension": ".py",
   "mimetype": "text/x-python",
   "name": "python",
   "nbconvert_exporter": "python",
   "pygments_lexer": "ipython3",
   "version": "3.6.13"
  }
 },
 "nbformat": 4,
 "nbformat_minor": 5
}
