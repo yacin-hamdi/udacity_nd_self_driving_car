{
 "cells": [
  {
   "cell_type": "code",
   "execution_count": 47,
   "id": "573eb89f-2c99-478d-8c81-391dc7f86bb9",
   "metadata": {},
   "outputs": [
    {
     "name": "stdout",
     "output_type": "stream",
     "text": [
      "[0.07882352941176471, 0.07529411764705884, 0.22470588235294123, 0.4329411764705882, 0.18823529411764706]\n"
     ]
    }
   ],
   "source": [
    "\n",
    "n= 5\n",
    "p = [1/n for i in range(n)]\n",
    "p_hit = 0.6\n",
    "p_miss = 0.2\n",
    "world = ['G', 'R', 'R', 'G', 'G']\n",
    "z = ['R', 'R']\n",
    "motion = [1, 1]\n",
    "p_exact = 0.8\n",
    "p_overshoot = 0.1 \n",
    "p_undershoot = 0.1\n",
    "\n",
    "def sense(p, z):\n",
    "    q = []\n",
    "    s = 0\n",
    "    for i in range(n):\n",
    "        meas = z == world[i]\n",
    "        q.append(p[i] * (p_hit * meas + p_miss * (1 - meas)))\n",
    "        s += q[i]\n",
    "    return [e/s for e in q]\n",
    "\n",
    "def move(p, U):\n",
    "    q = []\n",
    "    for i in range(len(p)):\n",
    "        motion = p[(i-U) % len(p)] * p_exact\n",
    "        motion += p[(i-U-1) % len(p)] * p_overshoot\n",
    "        motion += p[(i-U+1) % len(p)] * p_undershoot\n",
    "        q.append(motion)\n",
    "    return q\n",
    "\n",
    "\n",
    "for i in range(len(z)):\n",
    "    p = sense(p, z[i])\n",
    "    p = move(p, motion[i])\n",
    "print(p)"
   ]
  },
  {
   "cell_type": "code",
   "execution_count": 45,
   "id": "c570f06a-1e65-4151-ab17-5e26269daa76",
   "metadata": {},
   "outputs": [
    {
     "name": "stdout",
     "output_type": "stream",
     "text": [
      "[0.20000000000000365, 0.20000000000000373, 0.20000000000000365, 0.2000000000000035, 0.2000000000000035]\n"
     ]
    }
   ],
   "source": [
    "\n",
    "\n",
    "\n",
    "for i in range(1000):\n",
    "    p = move(p, 2)\n",
    "print(p)"
   ]
  },
  {
   "cell_type": "code",
   "execution_count": null,
   "id": "e33d5c9e-a4a7-46e5-a7e5-3f451e4ff82c",
   "metadata": {},
   "outputs": [],
   "source": []
  }
 ],
 "metadata": {
  "kernelspec": {
   "display_name": "Python 3",
   "language": "python",
   "name": "python3"
  },
  "language_info": {
   "codemirror_mode": {
    "name": "ipython",
    "version": 3
   },
   "file_extension": ".py",
   "mimetype": "text/x-python",
   "name": "python",
   "nbconvert_exporter": "python",
   "pygments_lexer": "ipython3",
   "version": "3.6.13"
  }
 },
 "nbformat": 4,
 "nbformat_minor": 5
}
