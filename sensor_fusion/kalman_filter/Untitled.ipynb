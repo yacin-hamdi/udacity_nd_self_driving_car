{
 "cells": [
  {
   "cell_type": "code",
   "execution_count": 10,
   "id": "4092510f-3c15-4f4e-9d76-eb854091b660",
   "metadata": {},
   "outputs": [
    {
     "name": "stdout",
     "output_type": "stream",
     "text": [
      "0.19947114020071635\n"
     ]
    }
   ],
   "source": [
    "from math import * \n",
    "def f(mu, sigma2, x):\n",
    "    return 1/sqrt(2.*pi*sigma2) * exp(-.5*(x-mu)**2 / sigma2)\n",
    "\n",
    "print(f(10.,4.,10.)) #Change the 8. to something else!"
   ]
  },
  {
   "cell_type": "code",
   "execution_count": 7,
   "id": "60efa154-71cf-4151-ba4c-5f4e2ca97733",
   "metadata": {},
   "outputs": [
    {
     "name": "stdout",
     "output_type": "stream",
     "text": [
      "[0.0, 10000.0]\n",
      "update:  [4.998000799680128, 3.9984006397441023]\n",
      "predict:  [5.998000799680128, 5.998400639744102]\n",
      "update:  [5.999200191953932, 2.399744061425258]\n",
      "predict:  [6.999200191953932, 4.399744061425258]\n",
      "update:  [6.999619127420922, 2.0951800575117594]\n",
      "predict:  [8.999619127420921, 4.09518005751176]\n",
      "update:  [8.999811802788143, 2.0235152416216957]\n",
      "predict:  [9.999811802788143, 4.023515241621696]\n",
      "update:  [9.999906177177365, 2.0058615808441944]\n",
      "predict:  [10.999906177177365, 4.005861580844194]\n",
      "[10.999906177177365, 4.005861580844194]\n"
     ]
    }
   ],
   "source": [
    "# Write a program to update your mean and variance\n",
    "# when given the mean and variance of your belief\n",
    "# and the mean and variance of your measurement.\n",
    "# This program will update the parameters of your\n",
    "# belief function.\n",
    "\n",
    "def update(mean1, var1, mean2, var2):\n",
    "    new_mean = (var1*mean2 + var2*mean1)/(var1 + var2)\n",
    "    new_var = 1/(1/var1 + 1/var2)\n",
    "    return [new_mean, new_var]\n",
    "\n",
    "def predict(mean1, var1, mean2, var2):\n",
    "    new_mean = mean1 + mean2\n",
    "    new_var = var1 + var2\n",
    "    return [new_mean, new_var]\n",
    "\n",
    "measurements = [5., 6., 7., 9., 10.]\n",
    "motion = [1., 1., 2., 1., 1.]\n",
    "measurement_sig = 4.\n",
    "motion_sig = 2.\n",
    "mu = 0.\n",
    "sig = 10000.\n",
    "\n",
    "#Please print out ONLY the final values of the mean\n",
    "#and the variance in a list [mu, sig]. \n",
    "print([mu, sig])\n",
    "# Insert code here\n",
    "for i in range(len(measurements)):\n",
    "    mu, sig = update(mu, sig, measurements[i], measurement_sig)\n",
    "    print(\"update: \", [mu,sig])\n",
    "    mu, sig = predict(mu, sig, motion[i], motion_sig)\n",
    "    print(\"predict: \", [mu, sig])\n",
    "\n",
    "print([mu, sig])"
   ]
  },
  {
   "cell_type": "code",
   "execution_count": null,
   "id": "b389bc91-e18b-49a0-b69a-c1d8df8ba38f",
   "metadata": {},
   "outputs": [],
   "source": []
  }
 ],
 "metadata": {
  "kernelspec": {
   "display_name": "Python 3 (ipykernel)",
   "language": "python",
   "name": "python3"
  },
  "language_info": {
   "codemirror_mode": {
    "name": "ipython",
    "version": 3
   },
   "file_extension": ".py",
   "mimetype": "text/x-python",
   "name": "python",
   "nbconvert_exporter": "python",
   "pygments_lexer": "ipython3",
   "version": "3.9.12"
  }
 },
 "nbformat": 4,
 "nbformat_minor": 5
}
